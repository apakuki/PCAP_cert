{
 "cells": [
  {
   "cell_type": "code",
   "execution_count": 3,
   "metadata": {},
   "outputs": [
    {
     "name": "stdout",
     "output_type": "stream",
     "text": [
      "Hello, I am  DarkKnight I play a  Fender Jazz through a  TC Electronics  rig.\n",
      "None\n"
     ]
    }
   ],
   "source": [
    "class BassPlayer():\n",
    "    def __init__(self, nickname, bass, rig):\n",
    "        self.nickname = nickname\n",
    "        self.bass = bass\n",
    "        self.rig = rig\n",
    "\n",
    "    def introduce(self):\n",
    "        print('Hello, I am ', self.nickname, 'I play a ', self.bass, 'through a ', self.rig, ' rig.')\n",
    "\n",
    "bp = BassPlayer('DarkKnight', 'Fender Jazz', 'TC Electronics')\n",
    "\n",
    "print(bp.introduce())"
   ]
  }
 ],
 "metadata": {
  "kernelspec": {
   "display_name": "dev",
   "language": "python",
   "name": "python3"
  },
  "language_info": {
   "codemirror_mode": {
    "name": "ipython",
    "version": 3
   },
   "file_extension": ".py",
   "mimetype": "text/x-python",
   "name": "python",
   "nbconvert_exporter": "python",
   "pygments_lexer": "ipython3",
   "version": "3.7.13"
  },
  "orig_nbformat": 4
 },
 "nbformat": 4,
 "nbformat_minor": 2
}
