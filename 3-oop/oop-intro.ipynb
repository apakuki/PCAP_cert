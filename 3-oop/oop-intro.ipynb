{
 "cells": [
  {
   "cell_type": "code",
   "execution_count": 1,
   "id": "21786e4f",
   "metadata": {},
   "outputs": [
    {
     "name": "stdout",
     "output_type": "stream",
     "text": [
      "The area is 90\n"
     ]
    }
   ],
   "source": [
    "# procedural approach\n",
    "def calculate_area(width, height):\n",
    "    return width * height\n",
    "\n",
    "width = int(input('What is the width? '))\n",
    "height = int(input('What is the height? '))\n",
    "area = calculate_area(width, height)\n",
    "print('The area is', area)"
   ]
  },
  {
   "cell_type": "code",
   "execution_count": 2,
   "id": "213dbb15",
   "metadata": {},
   "outputs": [
    {
     "name": "stdout",
     "output_type": "stream",
     "text": [
      "The area is 90\n",
      "Your age multiplied by the height is 15\n"
     ]
    }
   ],
   "source": [
    "# procedural approach\n",
    "def calculate_area(width, height):\n",
    "    return width * height\n",
    "\n",
    "width = int(input('What is the width? '))\n",
    "height = int(input('What is the height? '))\n",
    "area = calculate_area(width, height)\n",
    "print('The area is', area)\n",
    "\n",
    "age = int(input('Hey, and what is your age? '))\n",
    "strange_operation = calculate_area(age, height)\n",
    "print('Your age multiplied by the height is', strange_operation)\n"
   ]
  },
  {
   "cell_type": "code",
   "execution_count": 3,
   "id": "c551016b",
   "metadata": {},
   "outputs": [
    {
     "name": "stdout",
     "output_type": "stream",
     "text": [
      "The area is 90\n"
     ]
    }
   ],
   "source": [
    "# object approach\n",
    "class Rectangle:\n",
    "    def __init__(self, width, height):\n",
    "      self.width = width\n",
    "      self.height = height\n",
    "    \n",
    "    def get_area(self):\n",
    "        return self.width * self.height\n",
    "\n",
    "a = int(input('What is the width? '))\n",
    "b = int(input('What is the height? '))\n",
    "\n",
    "rectangle = Rectangle(a, b)\n",
    "print('The area is', rectangle.get_area())\n"
   ]
  },
  {
   "cell_type": "code",
   "execution_count": 4,
   "id": "10d290c5",
   "metadata": {},
   "outputs": [
    {
     "name": "stdout",
     "output_type": "stream",
     "text": [
      "The circle area is:  31.41592653589793\n"
     ]
    }
   ],
   "source": [
    "import math\n",
    "class Circle:\n",
    "\n",
    "\n",
    "    def __init__(self, radius) -> None:\n",
    "        self.radius = radius\n",
    "\n",
    "    def get_area(self):\n",
    "        return 2 * math.pi * self.radius\n",
    "\n",
    "r = int(input('What is the radius? '))\n",
    "\n",
    "circle = Circle(r)\n",
    "\n",
    "print('The circle area is: ', circle.get_area())"
   ]
  }
 ],
 "metadata": {
  "kernelspec": {
   "display_name": "Python 3 (ipykernel)",
   "language": "python",
   "name": "python3"
  },
  "language_info": {
   "codemirror_mode": {
    "name": "ipython",
    "version": 3
   },
   "file_extension": ".py",
   "mimetype": "text/x-python",
   "name": "python",
   "nbconvert_exporter": "python",
   "pygments_lexer": "ipython3",
   "version": "3.7.13"
  }
 },
 "nbformat": 4,
 "nbformat_minor": 5
}
